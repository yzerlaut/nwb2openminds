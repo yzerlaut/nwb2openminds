{
 "cells": [
  {
   "cell_type": "markdown",
   "id": "f6b2df0b",
   "metadata": {},
   "source": [
    "# Dataset of two-photon recording of SST+ interneurons\n",
    "\n",
    "Two mouse lines:\n",
    "\n",
    "- Wild-Type strain: \"Sst-IRES-Cre\"\n",
    "      \n",
    "    https://www.jax.org/strain/013044\n",
    "\n",
    "- SST::GluN1-KO strain: \"Sst-IRES-Cre\" with the \"NR1flox\"\n",
    "  \n",
    "    https://www.jax.org/strain/005246\n",
    "\n",
    "### Download the dataset:\n",
    "\n",
    "Get the `SST-ffGratingStim-2P` folder from the bucket in the repository https://wiki.ebrains.eu/bin/view/Collabs/nwb-data-sharing-pipeline/Bucket"
   ]
  },
  {
   "cell_type": "code",
   "execution_count": 1,
   "id": "aa624149",
   "metadata": {},
   "outputs": [],
   "source": [
    "# general python modules for scientific analysis\n",
    "import os\n",
    "import numpy as np\n",
    "\n",
    "# load the NWB python API\n",
    "import pynwb\n",
    "\n",
    "datafolder = os.path.join(os.path.expanduser('~'), 'CURATED', 'SST-ffGratingStim-2P') # update"
   ]
  },
  {
   "cell_type": "markdown",
   "id": "51b41498-fc5e-41c0-b012-8bd3f0636899",
   "metadata": {},
   "source": [
    "## Loop over datafiles"
   ]
  },
  {
   "cell_type": "code",
   "execution_count": 2,
   "id": "7ec92e35-c8ef-4d25-b1a1-59773f500bee",
   "metadata": {},
   "outputs": [
    {
     "name": "stdout",
     "output_type": "stream",
     "text": [
      "\n",
      "\n",
      "------ GluN1-KO Dataset ------ \n",
      "sub-08_ses-01_V1-ffGratingStim-2Prec.nwb\n",
      "sub-08_ses-02_V1-ffGratingStim-2Prec.nwb\n",
      "sub-08_ses-03_V1-ffGratingStim-2Prec.nwb\n",
      "sub-08_ses-04_V1-ffGratingStim-2Prec.nwb\n",
      "sub-09_ses-01_V1-ffGratingStim-2Prec.nwb\n",
      "sub-09_ses-02_V1-ffGratingStim-2Prec.nwb\n",
      "sub-10_ses-01_V1-ffGratingStim-2Prec.nwb\n",
      "sub-10_ses-02_V1-ffGratingStim-2Prec.nwb\n",
      "sub-10_ses-03_V1-ffGratingStim-2Prec.nwb\n",
      "sub-10_ses-04_V1-ffGratingStim-2Prec.nwb\n",
      "sub-11_ses-01_V1-ffGratingStim-2Prec.nwb\n",
      "sub-11_ses-02_V1-ffGratingStim-2Prec.nwb\n",
      "sub-11_ses-03_V1-ffGratingStim-2Prec.nwb\n",
      "sub-12_ses-01_V1-ffGratingStim-2Prec.nwb\n",
      " ==> GluN1-KO Dataset: N=5 mice, N=14 sessions\n",
      "\n",
      "\n",
      "------ Wild-Type Dataset ------ \n",
      "sub-01_ses-01_V1-ffGratingStim-2Prec.nwb\n",
      "sub-01_ses-02_V1-ffGratingStim-2Prec.nwb\n",
      "sub-02_ses-01_V1-ffGratingStim-2Prec.nwb\n",
      "sub-02_ses-02_V1-ffGratingStim-2Prec.nwb\n",
      "sub-03_ses-01_V1-ffGratingStim-2Prec.nwb\n",
      "sub-03_ses-02_V1-ffGratingStim-2Prec.nwb\n",
      "sub-04_ses-01_V1-ffGratingStim-2Prec.nwb\n",
      "sub-04_ses-02_V1-ffGratingStim-2Prec.nwb\n",
      "sub-05_ses-01_V1-ffGratingStim-2Prec.nwb\n",
      "sub-05_ses-02_V1-ffGratingStim-2Prec.nwb\n",
      "sub-06_ses-01_V1-ffGratingStim-2Prec.nwb\n",
      "sub-06_ses-02_V1-ffGratingStim-2Prec.nwb\n",
      "sub-06_ses-03_V1-ffGratingStim-2Prec.nwb\n",
      "sub-06_ses-04_V1-ffGratingStim-2Prec.nwb\n",
      "sub-07_ses-01_V1-ffGratingStim-2Prec.nwb\n",
      "sub-07_ses-02_V1-ffGratingStim-2Prec.nwb\n",
      "sub-07_ses-03_V1-ffGratingStim-2Prec.nwb\n",
      "sub-07_ses-04_V1-ffGratingStim-2Prec.nwb\n",
      " ==> Wild-Type Dataset: N=7 mice, N=18 sessions\n"
     ]
    }
   ],
   "source": [
    "Dataset = {}\n",
    "for strain in [f for f in os.listdir(datafolder) if os.path.isdir(os.path.join(datafolder, f))]:\n",
    "    print('\\n\\n------ %s Dataset ------ ' % strain)\n",
    "    Dataset[strain] = {'files':[], 'subjects':[]}\n",
    "    for subject in np.sort([f for f in os.listdir(os.path.join(datafolder, strain)) if 'sub' in f]):\n",
    "        for fn in np.sort([f for f in os.listdir(os.path.join(datafolder, strain, subject)) if 'sub' in f]):\n",
    "            io = pynwb.NWBHDF5IO(os.path.join(datafolder, strain, subject, fn), 'r')\n",
    "            nwbfile = io.read()\n",
    "            Dataset[strain]['subjects'].append(subject)\n",
    "            Dataset[strain]['files'].append(fn)\n",
    "            print(fn)\n",
    "    print(' ==> %s Dataset: N=%i mice, N=%i sessions' % (strain, len(np.unique(Dataset[strain]['subjects'])), len(Dataset[strain]['files'])))"
   ]
  },
  {
   "cell_type": "code",
   "execution_count": null,
   "id": "0219e2a2-f048-47ce-b3d1-9bcc27f0ce9f",
   "metadata": {},
   "outputs": [],
   "source": []
  }
 ],
 "metadata": {
  "kernelspec": {
   "display_name": "Python 3 (ipykernel)",
   "language": "python",
   "name": "python3"
  },
  "language_info": {
   "codemirror_mode": {
    "name": "ipython",
    "version": 3
   },
   "file_extension": ".py",
   "mimetype": "text/x-python",
   "name": "python",
   "nbconvert_exporter": "python",
   "pygments_lexer": "ipython3",
   "version": "3.11.6"
  }
 },
 "nbformat": 4,
 "nbformat_minor": 5
}
